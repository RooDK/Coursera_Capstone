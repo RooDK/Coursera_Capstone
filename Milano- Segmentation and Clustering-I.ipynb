{
 "cells": [
  {
   "cell_type": "markdown",
   "metadata": {},
   "source": [
    "<h1>IBM Applied Data Science- Capstone Project</h1>\n",
    "<h2>Segmentation &amp; Clustering Neighborhoods in Milan</h2>\n",
    "<h2>The Battle of Neighborhoods - Final Report (Week 1)</h2>\n",
    "<h2>Roozbeh Dargahi</h2>"
   ]
  },
  {
   "cell_type": "markdown",
   "metadata": {},
   "source": [
    "### Content\n",
    "\n",
    "1.\tIntroduction Section : \n",
    "\t\n",
    "    1.1 A description of the problem and a discussion of the background.\n",
    "    \n",
    "    1.2 Problem to be resolved\n",
    "    \n",
    "    1.3 Audience for this project.\n",
    "    \n",
    "    \n",
    "2.\tData Section:  \n",
    "\n",
    "\t2.1 Data Required to resolve the problem\n",
    "    \n",
    "    2.2 Data sources and data manipulation\n",
    "    \n",
    "    2.3 How the data will be used to solve the problem\n",
    "    \n",
    "    \n",
    "3.\tMethodology section : \n",
    "\n",
    "\t3.1 Process steps and strategy to resolve the problem\n",
    "    \n",
    "    3.2 Data Science Methods, machine learing, mapping tools and exploratory data analysis.\n",
    "    \n",
    "    \n",
    "4.\tResults section \n",
    "\n",
    "\tDiscussion of the results and how they help to take a decision.\n",
    "    \n",
    "    \n",
    "5.\tDiscussion section \n",
    "\n",
    "\tElaboration and discussion on any observations and/or recommendations for improvement.\n",
    "    \n",
    "    \n",
    "6.\tConclusion section \n",
    "\n",
    "\tDesicison taken and Report Conclusion."
   ]
  },
  {
   "cell_type": "markdown",
   "metadata": {},
   "source": [
    "# 1. Introduction Section: \n",
    "### Discussion of the business problem and the audience who would be interested in this project."
   ]
  },
  {
   "cell_type": "markdown",
   "metadata": {},
   "source": [
    "### 1.1 A description of the problem and a discussion of the background.\n",
    "Italy will host the 2026 Winter Games, the International Olympic Committee (the “IOC”) announced on June 24. \n",
    "The IOC, which organizes the Winter and Summer Games, chose a bid from Milan and the Alpine ski resort of Cortina d’Ampezzo \n",
    "over a single rival bid from the Swedish capital of Stockholm and the village of Åre.\n",
    "The IOC Executive Board and IOC Session adopted a report entitled the “Olympic Games: The New Norm” in February 2018. \n",
    "It includes over one hundred practical measures aimed at reducing the cost and complexity of the Olympic and Paralympic Games \n",
    "delivery model and covers the entire lifecycle of a Games edition from candidature to organisation and legacy. \n",
    "The Host City Contract (HCC)– Principles 2026, is the contract concluded between the IOC and the city elected \n",
    "to host the Olympic and Paralympic Games (the “Host City”), the National Olympic Committee of the Host Country (the “Host NOC”) and Organising Committees for the Olympic and Paralympic Games (OCOG).  \n",
    "The HCC - Operational Requirements document lists key requirements applicable to the planning, organising, financing and \n",
    "staging of the Games.\n",
    "\n",
    "Sufficient, well-located and reasonably priced accommodation allows all Olympic and Paralympic stakeholders \n",
    "to fulfill their duties in the period before, during and immediately after the Games. \n",
    "For the Accommodation area, key success factors include: \n",
    "1. Binding and fair accommodation pricing and availability guarantees for all categories of accommodation;  \n",
    "2. Strict adherence to accommodation requirements and timetables for various stakeholder groups; and \n",
    "3. Close coordination with interdependent areas, including the Arrivals and Departures, Finance and Transport areas and the respective stakeholder organisations outlined in the requirements tables of the HCC. \n",
    "\n",
    "\n"
   ]
  },
  {
   "cell_type": "markdown",
   "metadata": {},
   "source": [
    "### 1.2  Problem to be resolved:   \n",
    "\n",
    "The \"Stakeholder Group Accommodation Requirements Table\"  outlines that International Federation (IF) Group should be accommodated to 4 different cluster of hotels based on the quality and level of service to their customers.\n",
    "The challenge to resolve is being able to find hotels in Milan that offer such a requirement. Therefore, I want to find a hotel subject to the following conditions: \n",
    "- Hotel with  ( 2 Stars <=  quality < 5 Stars)\n",
    "- Unit located within walking distance (<=1.0 km) from a subway metro station in Milan\n",
    "- Area with most ammenities and venues \n",
    "\n"
   ]
  },
  {
   "cell_type": "markdown",
   "metadata": {},
   "source": [
    "### 1.3 Interested Audience\n",
    "I believe this is a relevant project for the IOC and other Olympic Movement stakeholders that closely collaborate with the OCOG to identify innovative solutions and customise requirements to better reflect the local context in order to achieve the objectives of the New Norm, i.e. to make the Olympic Games delivery cost-efficient and effective.. The use of FourSquare data and mapping techniques combined with data analysis will help resolve the key questions arisen. Lastly, this project is a good practical case toward the development of Data Science skills."
   ]
  },
  {
   "cell_type": "markdown",
   "metadata": {},
   "source": [
    "# 2. Data Section:\n",
    "## Description of the data and its sources that will be used to solve the problem"
   ]
  },
  {
   "cell_type": "markdown",
   "metadata": {},
   "source": [
    "### 2.1 Data Required to resolve the problem\n",
    "In order to make a good choice of a hotel in Milan, the following data is required:\n",
    "   - List/Information on neighborhoods form Milan with their Geodata (latitude and longitude).\n",
    "   - List/Information about the subway metro stations in Milan with geodata.\n",
    "   - Listed hotels in Milan area with descriptions ( Quality, location, address)\n",
    "   - Venues and ammenities in the Milan neighborhoods (e.g. top 10)\n",
    "\n"
   ]
  },
  {
   "cell_type": "markdown",
   "metadata": {},
   "source": [
    "### 2.2 Sources and manipulation\n",
    "- The list of Milan neighborhoods will be extracted from Wikipedia Page (https://it.wikipedia.org/wiki/Municipi_di_Milano) using Web Scraping.\n",
    "- List of accommodation facilities in Milan area with descriptions will be obtained from DatiOpen.it Website (http://www.datiopen.it/it/opendata/Regione_Lombardia_Mappa_delle_strutture_ricettive).\n",
    "- The Foursquare Platform is the main source to identify any location and find places nearby. \n",
    "- The geolocation will be obtained via an algorythm using Nominatim. \n",
    "\n"
   ]
  },
  {
   "cell_type": "markdown",
   "metadata": {},
   "source": [
    "### 2.3 How the data will be used to solve the problem\n",
    "The data will be used as follows:\n",
    "- Use Foursquare and geopy data to map top 10 venues for all Milan neighborhoods and clustered in groups.\n",
    "- Use foursquare and geopy data to map the location of subway metro stations, separately and on top of the above clustered map in order to be able to identify the venues and ammenities near each metro station, or explore each subway location separately\n",
    "- Use Foursquare and geopy data to map the location of hotels, in some form, linked to the subway locations.\n",
    "- create a map that depicts, for instance, the quality of hotels, around a radious of 1.0 km around each subway station - or a similar metrics. I will be able to quickly point to the popups to know the relative quality per subway area.\n",
    "- Addresses from hotel locations will be converted to geodata (lat, long) using Geopy-distance and Nominatim.\n",
    "- Data will be searched in from DatiOpen.it Website, or other government agencies.\n"
   ]
  },
  {
   "cell_type": "markdown",
   "metadata": {},
   "source": [
    "# 3. Methodology section: "
   ]
  },
  {
   "cell_type": "markdown",
   "metadata": {},
   "source": [
    "## 3.1 Process steps and strategy to resolve the problem"
   ]
  },
  {
   "cell_type": "markdown",
   "metadata": {},
   "source": [
    "## 3.2 Data Science Methods, machine learing, mapping tools and exploratory data analysis."
   ]
  },
  {
   "cell_type": "markdown",
   "metadata": {},
   "source": [
    "# 4. Results section: "
   ]
  },
  {
   "cell_type": "markdown",
   "metadata": {},
   "source": [
    "## Discussion of the results and how they help to take a decision."
   ]
  },
  {
   "cell_type": "markdown",
   "metadata": {},
   "source": [
    "# 5. Discussion section:  "
   ]
  },
  {
   "cell_type": "markdown",
   "metadata": {},
   "source": [
    "## Elaboration and discussion on any observations and/or recommendations for improvement."
   ]
  },
  {
   "cell_type": "markdown",
   "metadata": {},
   "source": [
    "# 6. Conclusion section: "
   ]
  },
  {
   "cell_type": "markdown",
   "metadata": {},
   "source": [
    "## Desicison taken and Report Conclusion."
   ]
  },
  {
   "cell_type": "code",
   "execution_count": null,
   "metadata": {},
   "outputs": [],
   "source": []
  }
 ],
 "metadata": {
  "kernelspec": {
   "display_name": "Python 3",
   "language": "python",
   "name": "python3"
  },
  "language_info": {
   "codemirror_mode": {
    "name": "ipython",
    "version": 3
   },
   "file_extension": ".py",
   "mimetype": "text/x-python",
   "name": "python",
   "nbconvert_exporter": "python",
   "pygments_lexer": "ipython3",
   "version": "3.7.3"
  }
 },
 "nbformat": 4,
 "nbformat_minor": 1
}
